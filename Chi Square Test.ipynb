# -*- coding: utf-8 -*-
"""
Created on Tue Oct 13 11:14:36 2020

@author: Devil
"""



import numpy as np
from scipy.stats import chisquare
from scipy.stats import chi2

# defining the values 
Observed=[262.,234.,204.,190.,210.]
Expected= [220.,220.,220.,220.,220.]
ddof=4.
alpha = 0.05

# Implementing
chi_square=sum([(o-e)**2./e for o,e in zip(Observed,Expected)])
print("chi-square: ",chi_square)

critical_value=chi2.ppf(q=1-alpha,df=ddof)
print('critical_value:',critical_value)

p_value=1-chi2.cdf(x=chi_square,df=ddof)
print('p-value:',p_value)


#FROM p_value and alpha
print("FROM p_value and alpha")
if p_value<=alpha:
    print("Dependent (reject H0)")
else:
    print("Independent (H0 holds true)")


#FROM chi_square and critical_value
print("FROM chi_square and critical_value")    
if chi_square >= critical_value:
    print("Dependent (reject H0)")
else:
    print("Independent (H0 holds true)")

#OUTPUT:    
#chi-square:  14.618181818181819
#critical_value: 9.487729036781154
#p-value: 0.005562316040379045
#FROM p_value and alpha
#Dependent (reject H0)
#FROM chi_square and critical_value
#Dependent (reject H0)
